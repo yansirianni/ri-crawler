{
 "cells": [
  {
   "cell_type": "markdown",
   "metadata": {},
   "source": [
    "# ☯ Coding Dojo ☯"
   ]
  },
  {
   "cell_type": "markdown",
   "metadata": {},
   "source": [
    "<img style=\"float:left\" src=\"imgs/vamos_coletar.png\">\n",
    "## Regras\n",
    "\n",
    "Ponto de participação, poderá perdido se:\n",
    "\n",
    "    - Aluno atrasado (ver política de atraso na especificação)\n",
    "    - Recusar participação como piloto/copiloto\n",
    "        - Ou não querer sair do computador, quando solicitado :-)\n",
    "    - Demorar para sair quando solicitado\n",
    "    - Parar de participar por:\n",
    "        - Uso de outro computador\n",
    "        - Uso de celular\n",
    "        - Usar a internet\n",
    "        - Conversa\n"
   ]
  },
  {
   "cell_type": "markdown",
   "metadata": {},
   "source": [
    "Antes de entregar, certifique-se que tenha executado todos os comandos/códigos deste Jupyter. É obrigatório que todas as saídas tenham sido apresentadas. Perda de 3 pontos caso não tenham feito isso."
   ]
  },
  {
   "cell_type": "markdown",
   "metadata": {},
   "source": [
    "# Dependencias"
   ]
  },
  {
   "cell_type": "markdown",
   "metadata": {},
   "source": [
    "Se necessário, instale o python3 e o pip3 abaixo usando `sudo apt-get install python3 python3-pip`.  Execute abaixo para instalar o [BeautifulSoup](https://www.crummy.com/software/BeautifulSoup/). Qualquer linha de comando/código como a de baixo, você pode executá-la a selecionando e pressionando `ctrl+enter` ❣️."
   ]
  },
  {
   "cell_type": "code",
   "execution_count": 5,
   "metadata": {},
   "outputs": [
    {
     "name": "stdout",
     "output_type": "stream",
     "text": [
      "Requirement already satisfied: bs4 in /home/yan/.local/lib/python3.8/site-packages (0.0.1)\n",
      "Requirement already satisfied: beautifulsoup4 in /home/yan/.local/lib/python3.8/site-packages (from bs4) (4.11.1)\n",
      "Requirement already satisfied: soupsieve>1.2 in /home/yan/.local/lib/python3.8/site-packages (from beautifulsoup4->bs4) (2.3.2)\n"
     ]
    }
   ],
   "source": [
    "!pip install bs4"
   ]
  },
  {
   "cell_type": "markdown",
   "metadata": {},
   "source": [
    "Caso de comando não encontrado `pip3` use `pip`. "
   ]
  },
  {
   "cell_type": "markdown",
   "metadata": {},
   "source": [
    "# Coletor"
   ]
  },
  {
   "cell_type": "markdown",
   "metadata": {},
   "source": [
    "<img src=\"imgs/arquitetura_coletor.png\">"
   ]
  },
  {
   "cell_type": "markdown",
   "metadata": {},
   "source": [
    "Você deverá completar a implementação das três classes abaixo para fazer o coletor: `Domain`, `Scheduler` e `PageFetcher`. Conforme figura acima, o `Scheduler` é responsável por armazenar as filas de URLs a serem requisitadas; o PageFetcher serão *threads* responsáveis por fazer as requisições das URLs obtidas por meio do escalonador (instancia da classe `Scheduler`). A classe `Domain` armazena informações importantes sobre o servidor a serem usadas no momento do escalonamento das URLs."
   ]
  },
  {
   "cell_type": "markdown",
   "metadata": {},
   "source": [
    "## Classe `Domain`"
   ]
  },
  {
   "cell_type": "markdown",
   "metadata": {},
   "source": [
    "<figure style=\"text-align:center\">\n",
    "    <img src=\"imgs/estrutura_coletor.png\">\n",
    "    <caption>Fonte: Baeza-Yates e Ribeiro-Neto, 2011 </caption>\n",
    "</figure>"
   ]
  },
  {
   "cell_type": "markdown",
   "metadata": {},
   "source": [
    "Antes de começar a fazer o escalonador (classe `Scheduler`) devemos implementar a classe que representa os domínios. Conforme visto na figura acima, o escalonador possuirá diversas filas, uma para cada servidor.  Em nosso caso, o servidor será um domínio - que você irá implementar na classe `Domain` do arquivo `domain.py`. \n",
    "\n",
    "O escalonador percorrerá cada servidor e obterá o primeiro da fila do primeiro servidor acessível. O servidor é acessível obdecendo o limite de tempo entre requisições (em segundos, usando o atributo `time_limit_between_requests`). \n",
    "\n",
    "Nesta atividade você irá implementar a classe `Domain`, que já possui os seguintes atributos: \n",
    "\n",
    "- *time_limit_between_requests*: Limite entre requisições (int)\n",
    "- *nam_domain*: Nome do domínio (String)\n",
    "- *time_last_access*: [Objeto Datetime](https://docs.python.org/3/library/datetime.html#datetime-objects) informando da data/hora do último acesso \n",
    "\n",
    "O prefixo da variável sempre irá denotar o tipo da mesma."
   ]
  },
  {
   "cell_type": "markdown",
   "metadata": {},
   "source": [
    "**Atividade 1 - classe `Domain`**: Complete a classe `Domain` implementando os métodos/atributos calculados descritos a seguir. Logo após, execute o ❣️ teste unitário ❣️ para verificar se os métodos/atributos calculados foram implementados conforme esperado.\n",
    "\n",
    "- **accessed_now**: Método que modifica o último acesso com a data/hora atual usando um [objeto datetime](https://docs.python.org/3/library/datetime.html#datetime-objects)\n",
    "- **time_since_last_access**: Atributo calculado que retorna um [objeto TimeDelta](https://docs.python.org/3/library/datetime.html#timedelta-objects) com a diferença da data atual e a data do último acesso. Veja os exemplos de uso do TimeDelta na sua documentação\n",
    "- **is_accessible**: Método que verdadeiro se o domínio estiver acessível"
   ]
  },
  {
   "cell_type": "markdown",
   "metadata": {},
   "source": [
    "Os métodos `count_fetched_page` e `has_finished_crawl` já estão implementados. Execute o teste unitário a seguir. Veja que o comando abaixo executa o teste unitário presente no arquivo `crawler/scheduler_test.py`. Analise-o para entender como implementamos testes unitários."
   ]
  },
  {
   "cell_type": "code",
   "execution_count": 6,
   "metadata": {},
   "outputs": [
    {
     "name": "stdout",
     "output_type": "stream",
     "text": [
      "Verificando acesso a um dominio já requisitado (após espera)\n",
      "aguardando 10 segundos...\n",
      ".\n",
      "----------------------------------------------------------------------\n",
      "Ran 1 test in 10.011s\n",
      "\n",
      "OK\n"
     ]
    }
   ],
   "source": [
    "!python3 -m crawler.scheduler_test DomainTest.test_domain"
   ]
  },
  {
   "cell_type": "markdown",
   "metadata": {},
   "source": [
    "**Atividade 2 - métodos `__hash__` e `__eq__` da classe `Domain`**: A fila será implementada por um dicionario ordenado ([OrderedDict](https://docs.python.org/2/library/collections.html#collections.OrderedDict)) em que a chave será um objeto da classe domínio e o valor serão uma lista de URLs. Para que seja possível a busca do domínio, você deverá implementar os métodos `__hash__` e `__eq__` de forma similar ao seguinte exemplo: "
   ]
  },
  {
   "cell_type": "code",
   "execution_count": 7,
   "metadata": {},
   "outputs": [
    {
     "name": "stdout",
     "output_type": "stream",
     "text": [
      "True\n"
     ]
    }
   ],
   "source": [
    "from collections import OrderedDict\n",
    "class Xuxu():\n",
    "    def __str__(self):\n",
    "        return \"xuxuuu\"\n",
    "    \n",
    "    def __hash__(self):\n",
    "        return hash(\"xuxu\")\n",
    "    def __eq__(self, x):\n",
    "        return x == \"xuxu\"\n",
    "d = OrderedDict()\n",
    "d[Xuxu()] = 'A'\n",
    "print(\"xuxu\" in d)"
   ]
  },
  {
   "cell_type": "markdown",
   "metadata": {},
   "source": [
    "No nosso caso, deve ser permitido fazer a busca no dicionário pelo nome do domínio ou pelo objeto, ou seja, após a implementação desta atividade, o seguinte código irá funcionar corretamente:"
   ]
  },
  {
   "cell_type": "code",
   "execution_count": 8,
   "metadata": {},
   "outputs": [
    {
     "name": "stdout",
     "output_type": "stream",
     "text": [
      "oi\n",
      "oi\n"
     ]
    }
   ],
   "source": [
    "from crawler.domain import Domain\n",
    "from collections import OrderedDict\n",
    "\n",
    "obj_domain = Domain(\"oi.com\",10)\n",
    "dic_x = OrderedDict()\n",
    "dic_x[obj_domain] = \"lala\"\n",
    "dic_x[\"oi.com\"] = \"oi\"\n",
    "\n",
    "#abaixo, em ambos os casos, será encontrado/impresso a string \"oi\"\n",
    "print(dic_x[\"oi.com\"])\n",
    "print(dic_x[obj_domain])"
   ]
  },
  {
   "cell_type": "markdown",
   "metadata": {},
   "source": [
    "Lembre-se que, em nosso caso, o parametro do método `__eq__` pode ser um objeto da classe `Domain` ou uma string representando o nome do domínio. Caso faça alguma modificação no código, você deverá reiniciar o kernel para que o efeito seja visto no código acima (para reiniciar, clique em Kernel->Restart). Isso ocorre que, uma vez dado import em um módulo, esse modulo não é alterado no Jupyter caso você faça uma modificação no código."
   ]
  },
  {
   "cell_type": "markdown",
   "metadata": {},
   "source": [
    "## Classe `Scheduler`"
   ]
  },
  {
   "cell_type": "markdown",
   "metadata": {},
   "source": [
    "Agora você irá implementar o escalonador. Essa classe será responsável por gerir as URLs.\n",
    "Para isso, será implementado as filas por servidores conforme apresentado na figura da seção anterior.\n",
    "Para isso, utilizaremos um OrderedDict em que as chaves são os servidores (objeto da classe `Domain`) e o valor será uma lista de tuplas com as URLs e sua profundidade. Com o objetivo de armazenar as URLs de forma estruturada, as mesmas **não serão** string, ao invés disso, serão objetos da classe `ParseResult` - essa classe é retornada do método [urlparse](https://docs.python.org/3/library/urllib.parse.html). Veja um exemplo abaixo.\n",
    "\n"
   ]
  },
  {
   "cell_type": "code",
   "execution_count": 9,
   "metadata": {},
   "outputs": [],
   "source": [
    "from crawler.domain import Domain\n",
    "from crawler.scheduler import Scheduler\n",
    "from urllib.parse import urlparse\n",
    "\n",
    "dict_filas_por_servidor = {Domain(\"www.globo.com\",10):[\n",
    "                                                (urlparse(\"http://www.globo.com/esporte\"),1),\n",
    "                                                (urlparse(\"http://www.globo.com/noticia_um\"),2),\n",
    "                                                (urlparse(\"http://www.globo.com/noticia_dois\"),3),\n",
    "                                                (urlparse(\"http://www.globo.com/noticia_tres\"),3),\n",
    "                                                ],\n",
    "                            Domain(\"www.cnpq.br\",10):[(urlparse(\"http://www.cnpq.br/pesquisadores\"),1),\n",
    "                                               (urlparse(\"http://www.cnpq.br/bolsas\"),1)]\n",
    "                          }\n",
    "urlNova = urlparse(\"http://www.globo.com/fiiut\")\n",
    "urlNova.netloc\n",
    "#checar o dominio globo existe \n",
    "dict_filas_por_servidor[urlNova.netloc].append(urlNova)\n",
    "\n",
    "                          "
   ]
  },
  {
   "cell_type": "markdown",
   "metadata": {},
   "source": [
    "Assim, a classe `Scheduler`, no arquivo `scheduler.py` possui os seguintes atributos: \n",
    "\n",
    "- `str_usr_agent`: Nome do `User agent`. Usualmente, é o nome do navegador, no nosso caso, será o nome do coletor (usualmente, terminado em `bot`)\n",
    "- `page_limit`: Número de páginas a serem coletadas\n",
    "- `depth_limit`: Profundidade máxima a ser coletada\n",
    "- `page_count`: Quantidade de páginas já coletadas\n",
    "- `dic_url_per_domain`: Fila de URLs por domínio (explicado anteriormente)\n",
    "- `set_discovered_urls`: Conjunto de URLs descobertas, ou seja, que foi extraída em algum HTML e já adicionadas na fila - mesmo se já ela foi retirada da fila. A URL armazenada deve ser uma string.\n",
    "- `dic_robots_per_domain`: Dicionário armazenando, para cada domínio, o objeto representando as regras obtidas no `robots.txt`"
   ]
  },
  {
   "cell_type": "markdown",
   "metadata": {},
   "source": [
    "**Atividad 3 - Método `can_add_page`**: Esse método irá retornar verdadeiro caso seja possível adicionar a página `obj_url` (objeto da classe ParseResult) que foi coletada na profundidade `depth`. Para que seja possível adicionar na lista, esta pagina não deve ter sido descoberta e nem com a profundidade maior que o limite. Este método será testado por teste unitário apenas após a implementação da adição e obtenção das URLs."
   ]
  },
  {
   "cell_type": "markdown",
   "metadata": {},
   "source": [
    "**Atividade 4 método `add_new_page` - Adicionar nova página**:  Este método retorna falso caso não seja possível adicionar a página (por meio do método `can_add_page`) e verdadeiro, caso contrário. Caso seja possível, deve-se adicionar a url `obj_url` na fila `dic_url_per_domain`. Lembre-se da estrutura do dicionário `dic_url_per_domain`. Não esqueça de armazenar que esta URL já foi descoberta. Este método será testado por teste unitário apenas após a implementação da obtenção das URLs. Lembre-se de como trabalhar com [dicionários](https://daniel-hasan.github.io/cefet-web-grad/classes/python2/#mais-colecoes)"
   ]
  },
  {
   "cell_type": "markdown",
   "metadata": {},
   "source": [
    "**Atividade 5 método `get_next_url` - obtém a próxima URL da fila**: Este método retona uma tupla `url,profundade` da próxima URL a ser coletada por meio da fila `dic_url_per_domain` retirando este item da fila. Lembre-se que: \n",
    "    \n",
    "- Ele deverá retornar a primeira URL do primeiro servidor que estiver acessível. \n",
    "- Você deve indicar que o servidor foi acessado \n",
    "- Caso a fila deste servidor esteja vazia, elimine-o do dicionário\n",
    "- Caso não encontre a URL, [coloque a Thread para esperar](https://docs.python.org/2/library/time.html#time.sleep) e, logo após, procure novamente \n",
    "\n",
    "Logo após, você já pode executar o teste unitário para verificar se a obtenção e adição de URLs está correta. Caso haja algum problema, existem já alguns prints comentados no código, descomente-os para verificar se o fluxo está ocorrendo da forma correta. Você deverá entregar sem a exibição desses prints (caso contrário, perderá pontos)."
   ]
  },
  {
   "cell_type": "code",
   "execution_count": 10,
   "metadata": {},
   "outputs": [
    {
     "name": "stdout",
     "output_type": "stream",
     "text": [
      "Verificação da ordem das URLs...\n",
      "Resgatando a segunda página do mesmo dominio...\n",
      "Tempo esperado: 20 segundos\n",
      ".\n",
      "----------------------------------------------------------------------\n",
      "Ran 1 test in 20.007s\n",
      "\n",
      "OK\n"
     ]
    }
   ],
   "source": [
    "!python3 -m crawler.scheduler_test SchedulerTest.test_add_remove_page"
   ]
  },
  {
   "cell_type": "markdown",
   "metadata": {},
   "source": [
    "**Atividade 6 método `can_fetch_page`**: Este método deve retornar verdadeiro caso a url (Objeto `ParseResult`), passada como parâmetro, pode ser coletada de acordo com o `Robots.txt` do domínio. Para isso, você deve usar o [`RobotFileParser`](https://docs.python.org/3/library/urllib.robotparser.html) para requisitar a URL do `robots.txt` deste domínio. Por razões de performance, você só poderá requisitar o robots.txt uma única vez por domínio. Assim, use o `dic_robots_per_domain` apropriadamente. Execute o teste unitário abaixo para verificar seu funcionamento. "
   ]
  },
  {
   "cell_type": "code",
   "execution_count": 11,
   "metadata": {},
   "outputs": [
    {
     "name": "stdout",
     "output_type": "stream",
     "text": [
      ".\n",
      "----------------------------------------------------------------------\n",
      "Ran 1 test in 1.314s\n",
      "\n",
      "OK\n"
     ]
    }
   ],
   "source": [
    "!python3 -m crawler.scheduler_test SchedulerTest.test_can_fetch"
   ]
  },
  {
   "cell_type": "markdown",
   "metadata": {},
   "source": [
    "**Atividade 7 - Inicialização das sementes no construtor**: No construtor da classe `Scheduler` você deve adicionar as páginas sementes na fila. Tais sementes são passadas pelo parametro `arr_urls_seeds` do construtor. "
   ]
  },
  {
   "cell_type": "code",
   "execution_count": 12,
   "metadata": {},
   "outputs": [
    {
     "name": "stdout",
     "output_type": "stream",
     "text": [
      ".\n",
      "----------------------------------------------------------------------\n",
      "Ran 1 test in 0.001s\n",
      "\n",
      "OK\n"
     ]
    }
   ],
   "source": [
    "!python3 -m crawler.scheduler_test SchedulerTest.test_init"
   ]
  },
  {
   "cell_type": "markdown",
   "metadata": {},
   "source": [
    "Logo após, utize a anotação @synchronized aonde julgar necessário para transformar em ThreadSafe."
   ]
  },
  {
   "cell_type": "markdown",
   "metadata": {},
   "source": [
    "## PageFetcher"
   ]
  },
  {
   "cell_type": "markdown",
   "metadata": {},
   "source": [
    "**Atividade 8 - Efetuar a requisição - método `request_url`:** Neste método você irá fazer a requisição usando a api [requests](https://requests.readthedocs.io/en/master/). Além disso, deve-se informar no cabeçalho (em `User-Agent`) o nome do coletor. O método deverá retornar o conteúdo (em binário) apenas se o conteúdo for HTML (ver no cabeçalho da resposta o tipo do conteúdo). Caso não seja, ele deverá retornar `None`. "
   ]
  },
  {
   "cell_type": "code",
   "execution_count": 13,
   "metadata": {},
   "outputs": [
    {
     "name": "stdout",
     "output_type": "stream",
     "text": [
      ".\n",
      "----------------------------------------------------------------------\n",
      "Ran 1 test in 7.287s\n",
      "\n",
      "OK\n"
     ]
    }
   ],
   "source": [
    "!python3 -m crawler.page_fetcher_test PageFetcherTest.test_request_url"
   ]
  },
  {
   "cell_type": "markdown",
   "metadata": {},
   "source": [
    "**Atividade 9 extração das URLs por meio do método `discover_links`**: A partir do conteúdo (texto em binário) `bin_str_content` deve-se extrair seus os links. O conteúdo esta em binário, pois, o BeautifulSoup, internamente, verifica o encoding por meio da [tag meta](https://www.w3schools.com/tags/att_meta_charset.asp) e converte para UTF8. A URL da página coletada é um objeto ParseResult `obj_url` que está na profundidade `depth`. \n",
    "\n",
    "Para cada URL extraída, você deverá retornar uma tupla com a URL (objeto ParseResult) e a sua profundidade. Utilize o comando `yield` para retornar essas tuplas. A profundidade é calculada de por meio de  `obj_url` e `depth`, conforme comentado em sala de aula. \n",
    "\n",
    "Para a extração dos links, use o [CSS Selector do BeautifulSoup](https://www.crummy.com/software/BeautifulSoup/bs4/doc/#css-selectors). Seletor CSS é uma expressão que define quais elementos HTML serão estilizados pelo CSS. No *Beatifulsoup* eles são usados para selecionar quais tags serão extraídas. Veja o exemplo de uso e brinque abaixo. Caso precise, veja aqui um pouco de seletores CSS: [slides de Web](https://fegemo.github.io/cefet-front-end/classes/css2/#outros-seletores), [documentação MDN](https://developer.mozilla.org/en-US/docs/Web/CSS/CSS_Selectors)."
   ]
  },
  {
   "cell_type": "code",
   "execution_count": 16,
   "metadata": {},
   "outputs": [
    {
     "name": "stdout",
     "output_type": "stream",
     "text": [
      "Collecting lxml\n",
      "  Downloading lxml-4.8.0-cp38-cp38-manylinux_2_17_x86_64.manylinux2014_x86_64.manylinux_2_24_x86_64.whl (6.9 MB)\n",
      "\u001b[K     |████████████████████████████████| 6.9 MB 1.9 MB/s eta 0:00:01     |██▌                             | 542 kB 1.2 MB/s eta 0:00:06     |████████████████████████▎       | 5.3 MB 1.9 MB/s eta 0:00:01\n",
      "\u001b[?25hInstalling collected packages: lxml\n",
      "Successfully installed lxml-4.8.0\n"
     ]
    }
   ],
   "source": [
    "!pip3 install lxml"
   ]
  },
  {
   "cell_type": "code",
   "execution_count": 17,
   "metadata": {},
   "outputs": [],
   "source": [
    "from bs4 import BeautifulSoup\n",
    "\n"
   ]
  },
  {
   "cell_type": "code",
   "execution_count": 5,
   "metadata": {},
   "outputs": [
    {
     "name": "stdout",
     "output_type": "stream",
     "text": [
      "Simulação da extração de links da página http://www.pudim.com.br na profundidade nível 2...\n",
      ".\n",
      "----------------------------------------------------------------------\n",
      "Ran 1 test in 0.003s\n",
      "\n",
      "OK\n"
     ]
    }
   ],
   "source": [
    "!python3 -m crawler.page_fetcher_test PageFetcherTest.test_discover_links"
   ]
  },
  {
   "cell_type": "markdown",
   "metadata": {},
   "source": [
    "**Atividade 10 - método que solicita uma nova URL**: Por meio do método `crawl_new_url` você deverá utilizar os métodos previamente implementados para:\n",
    "\n",
    "- Solicitar ao escalonador uma nova URL\n",
    "- Fazer a requisição e obter o resultado (em binário)\n",
    "- Caso a URL seja um HTML válido, imprima esta URL e extraia os seus links"
   ]
  },
  {
   "cell_type": "markdown",
   "metadata": {},
   "source": [
    "**Atividade 11 - método run**: Este método deve coletar páginas enquanto a coleta não foi finalizada"
   ]
  },
  {
   "cell_type": "markdown",
   "metadata": {},
   "source": [
    "**Atividade 12 - um pequeno teste para finalizar:** Use as sementes do seu grupo e crie abaixo um escalonador e 5 PageFetchers para extrair 30 páginas. Imprima também o tempo gasto total."
   ]
  },
  {
   "cell_type": "code",
   "execution_count": 1,
   "metadata": {},
   "outputs": [
    {
     "name": "stdout",
     "output_type": "stream",
     "text": [
      "Pagina 6 = ParseResult(scheme='https', netloc='www.ingresso.com', path='/home', params='', query='partnership=home&utm_source=uol.com.br&utm_medium=barrauol&utm_campaign=linkfixo_barrauol&utm_content=barrauol-link-ingressocom&utm_term=barrauol-ingressocom', fragment='')\n",
      "Pagina 7 = ParseResult(scheme='https', netloc='batepapo.uol.com.br', path='/', params='', query='', fragment='')\n",
      "Pagina 8 = ParseResult(scheme='https', netloc='meunegocio.uol.com.br', path='', params='', query='utm_medium=uol.com.br&utm_source=interna&utm_campaign=barra_uol&utm_content=link_fixo_umn&utm_term=barra_topo', fragment='')\n",
      "Pagina 9 = ParseResult(scheme='https', netloc='www.passeidireto.com', path='/', params='', query='utm_source=uol.com.br&utm_medium=barra-uol', fragment='')\n",
      "Pagina 10 = ParseResult(scheme='https', netloc='play.uol.com.br', path='/', params='', query='utm_source=uol.com.br&utm_medium=barrauol&utm_campaign=linkfixo_barrauol&utm_term=barrauol-uolplay&utm_content=barrauol', fragment='')\n",
      "Pagina 11 = ParseResult(scheme='https', netloc='clicklogger.rm.uol.com.br', path='/', params='', query='prd=32&grp=src:210;chn:0;creative:barrauol;thm:barrauol-pagseguro&msr=Cliques%20de%20Origem:1&oper=11&redir=https://pagseguro.uol.com.br/', fragment='')\n",
      "Pagina 12 = ParseResult(scheme='https', netloc='sac.uol.com.br', path='/', params='', query='', fragment='/')\n",
      "Pagina 13 = ParseResult(scheme='https', netloc='email.uol.com.br', path='/', params='', query='', fragment='')\n",
      "Pagina 14 = ParseResult(scheme='https', netloc='assine.uol.com.br', path='/', params='', query='utm_source=uol.com.br&utm_medium=barra-uol&utm_campaign=barra-uol-assine&utm_content=botao-assine-homeuol', fragment='')\n",
      "Pagina 15 = ParseResult(scheme='', netloc='www.uol.com.br', path='/', params='', query='', fragment='')\n",
      "Pagina 16 = ParseResult(scheme='https', netloc='pagbank.onelink.me', path='/7YaT', params='', query='pid=midia-interna&c=20210903_uol_selo_home_cabeca&af_web_dp=https%3A%2F%2Fpagseguro.uol.com.br%2Fconta-digital%2Frendimento&af_dp=psmyaccount%3A%2F%2Fhome', fragment='')\n",
      "Pagina 17 = ParseResult(scheme='https', netloc='www.terra.com.br', path='', params='', query='', fragment='trr-ctn-general')\n",
      "Pagina 18 = ParseResult(scheme='https', netloc='www.terra.com.br', path='', params='', query='', fragment='')\n",
      "Pagina 19 = ParseResult(scheme='https', netloc='mail.terra.com.br', path='', params='', query='', fragment='')\n",
      "Pagina 20 = ParseResult(scheme='https', netloc='www.terra.com.br', path='/comunidade/visao-do-corre/', params='', query='', fragment='')\n",
      "Pagina 21 = ParseResult(scheme='https', netloc='www.terra.com.br', path='/nos/', params='', query='', fragment='')\n",
      "Pagina 22 = ParseResult(scheme='https', netloc='www.terra.com.br', path='/esportes/', params='', query='', fragment='')\n",
      "Pagina 23 = ParseResult(scheme='https', netloc='www.terra.com.br', path='/noticias/', params='', query='', fragment='')\n",
      "Pagina 24 = ParseResult(scheme='https', netloc='www.terra.com.br', path='/vida-e-estilo/horoscopo/', params='', query='', fragment='')\n",
      "Pagina 25 = ParseResult(scheme='https', netloc='www.terra.com.br', path='/diversao/', params='', query='', fragment='')\n",
      "Pagina 26 = ParseResult(scheme='https', netloc='www.terra.com.br', path='/diversao/tv/reality-shows/', params='', query='', fragment='')\n",
      "Pagina 27 = ParseResult(scheme='https', netloc='www.terra.com.br', path='/gameon/', params='', query='', fragment='')\n",
      "Pagina 28 = ParseResult(scheme='https', netloc='www.terra.com.br', path='/noticias/podcast/', params='', query='', fragment='')\n",
      "Pagina 29 = ParseResult(scheme='https', netloc='www.terra.com.br', path='/vida-e-estilo/', params='', query='', fragment='')\n",
      "Pagina 30 = ParseResult(scheme='https', netloc='www.terra.com.br', path='/noticias/educacao/', params='', query='', fragment='')\n",
      "Pagina 31 = ParseResult(scheme='https', netloc='www.terra.com.br', path='/economia/', params='', query='', fragment='')\n",
      "Pagina 32 = ParseResult(scheme='https', netloc='www.terra.com.br', path='/amp/story/diversao/gente/familia-tradicional-e-futebol-saiba-de-onde-vem-a-fortuna-do-ex-de-wanessa,804ec1271776b9bdc8cb3c329e0dd275pds418ji.html', params='', query='', fragment='')\n",
      "Pagina 33 = ParseResult(scheme='https', netloc='www.terra.com.br', path='/amp/story/diversao/tv/reality-shows/tunel-do-amor-aposta-da-globo-e-quase-um-bbb-para-maiores,b203149c40e270e58953af014a1bc26eyw8368gq.html', params='', query='', fragment='')\n",
      "Pagina 34 = ParseResult(scheme='https', netloc='www.terra.com.br', path='/amp/story/noticias/brasil/jovens-podem-tirar-titulo-de-eleitor-ate-4-de-maio,4a1011c1414bff4a79ffdc0df315a7b7dcg5i2be.html', params='', query='', fragment='')\n",
      "Pagina 35 = ParseResult(scheme='https', netloc='www.terra.com.br', path='/amp/story/diversao/tv/reality-shows/power-couple-estreia-e-recheada-de-intrigas-e-climao,22516905e58d4ebee11a39fa50c2b68ch8r6az56.html', params='', query='', fragment='')\n",
      "Pagina 36 = ParseResult(scheme='https', netloc='www.terra.com.br', path='/amp/story/diversao/gente/met-gala-veja-look-usado-por-anitta-e-outros-famosos,68369f26756d24028fa6b4a84ff89888mvifednc.html', params='', query='', fragment='')\n",
      "Pagina 37 = ParseResult(scheme='https', netloc='www.terra.com.br', path='/amp/story/nos/artistas-trans-celebres-e-suas-maezonas,d728bb714a1c06a907e90c6b7f722cb5yj4prp7h.html', params='', query='', fragment='')\n",
      "Pagina 38 = ParseResult(scheme='https', netloc='www.terra.com.br', path='/amp/story/diversao/gabriela-versiani-quem-e-influencer-que-beijou-medina-no-carnaval,5682cd62b86a377b97abecf65c5481712n6lnbj1.html', params='', query='', fragment='')\n",
      "Pagina 39 = ParseResult(scheme='https', netloc='www.terra.com.br', path='/amp/story/diversao/gente/wanessa-grazi-massafera-famosos-anunciam-separacao,bc08ec9b7ed96c9c19c56a33693bd2a71hhvbdym.html', params='', query='', fragment='')\n",
      "Pagina 40 = ParseResult(scheme='https', netloc='www.terra.com.br', path='/amp/story/esportes/futebol/rodada-tem-dente-quebrado-voadora-e-desabafo-de-artilheiro,a108074298ccb28adfaaae8d1581f96f4rrebe60.html', params='', query='', fragment='')\n",
      "Pagina 41 = ParseResult(scheme='https', netloc='www.terra.com.br', path='/amp/story/gameon/melhores-jogos-de-terror-no-game-pass,a41bf12b72addcb93f68a52dcd74a678k3qnzf4g.html', params='', query='', fragment='')\n",
      "Pagina 42 = ParseResult(scheme='https', netloc='www.terra.com.br', path='/amp/story/vida-e-estilo/horoscopo/previsoes-dos-signos-02-a-08-de-maio,78e7c7c1fb65ee8521e590e72e2807991cogr7tf.html', params='', query='', fragment='')\n",
      "Pagina 43 = ParseResult(scheme='https', netloc='www.terra.com.br', path='/amp/story/diversao/gente/milionaria-entenda-de-onde-vem-dinheiro-de-rafa-kalimann,fae771ec19f8ffe0cc3c36b6fc3fc3d7hm2gsiz5.html', params='', query='', fragment='')\n",
      "Pagina 44 = ParseResult(scheme='https', netloc='www.terra.com.br', path='/amp/story/diversao/gente/ponei-cobra-cao-e-mais-conheca-os-pets-dos-famosos,5d53f4d6c8211c687cd1bf0ea743587csd4mtfjq.html', params='', query='', fragment='')\n",
      "Pagina 45 = ParseResult(scheme='https', netloc='www.terra.com.br', path='/amp/story/vida-e-estilo/quem-sao-as-pessoas-vivas-mais-inteligentes-do-mundo,26c6aca72f7a7e4890a90dcbee7b372b3unhamzm.html', params='', query='', fragment='')\n",
      "Pagina 46 = ParseResult(scheme='https', netloc='www.terra.com.br', path='/amp/story/vida-e-estilo/comportamento/estelionatario-emocional-saiba-como-identificar-e-fugir-para-longe,161ec75eaaef1089865ab09c2eab69d7e423mmyb.html', params='', query='', fragment='')\n",
      "Pagina 47 = ParseResult(scheme='https', netloc='www.terra.com.br', path='/amp/story/diversao/gente/quem-sao-as-celebridades-brasileiras-que-ganham-a-vida-nos-eua,908316a20f6da1d61bcd8536ed366efbzc10xs2d.html', params='', query='', fragment='')\n",
      "Pagina 48 = ParseResult(scheme='https', netloc='www.terra.com.br', path='/amp/story/comunidade/visao-do-corre/conheca-a-escola-da-periferia-que-garantiu-lugar-na-elite-do-carnaval,af4f0320e0c1534a2469dcaeeb55f8af61nsqswb.html', params='', query='', fragment='')\n",
      "Pagina 49 = ParseResult(scheme='https', netloc='www.terra.com.br', path='/amp/story/diversao/tv/reality-shows/bbb-101-veja-o-que-aconteceu-dentro-e-fora-da-casa,ff3a137d25ea3c57f1ee7c43bbb7b3bbolif6q5n.html', params='', query='', fragment='')\n",
      "Pagina 50 = ParseResult(scheme='https', netloc='www.terra.com.br', path='/amp/story/diversao/tv/reality-shows/ameaca-fruta-no-travesseiro-quem-sao-os-casais-mais-polemicos-do-power-couple,63a2eb720e15e134376db4a93f2f3c44y1k0e5ar.html', params='', query='', fragment='')\n",
      "Pagina 51 = ParseResult(scheme='https', netloc='www.terra.com.br', path='/amp/story/nos/famosos-50-que-sao-melhores-amigos,5446bdb0c9ecb3012bf9494d0a3523e1qnlwjif9.html', params='', query='', fragment='')\n",
      "Pagina 52 = ParseResult(scheme='https', netloc='www.terra.com.br', path='/amp/story/diversao/tv/reality-shows/quem-esteve-em-mais-realities-dinei-ou-bil-araujo-veja-se-voce-acerta,f6d6ff3fc29a50ac05a6d09acad2e260ey4arx36.html', params='', query='', fragment='')\n",
      "Pagina 53 = ParseResult(scheme='https', netloc='www.terra.com.br', path='/amp/story/diversao/tv/reality-shows/por-que-tadeu-schmidt-e-essencial-para-o-bbb23,b51f744e364bf0853c4a224a52fea383qulw0b3b.html', params='', query='', fragment='')\n",
      "Pagina 54 = ParseResult(scheme='https', netloc='www.terra.com.br', path='/amp/story/nos/o-que-e-pansexualidade,378ff1567cf4ce622e1f8c502135119bd3w5us16.html', params='', query='', fragment='')\n",
      "Pagina 55 = ParseResult(scheme='https', netloc='www.terra.com.br', path='/amp/story/diversao/tv/reality-shows/quem-e-fernando-fernandes-conheca-o-apresentador-do-no-limite,c3af4d330eef4dd202c621888aafd4c14itkjcgo.html', params='', query='', fragment='')\n",
      "Pagina 56 = ParseResult(scheme='https', netloc='www.terra.com.br', path='/amp/story/diversao/tv/reality-shows/campeoes-morais-do-bbb-relembre-participantes-que-fizeram-historia,1db853fa7083f8ac6c7306fde14896fc1joq2xc4.html', params='', query='', fragment='')\n",
      "Pagina 57 = ParseResult(scheme='https', netloc='www.terra.com.br', path='/amp/story/diversao/quem-e-elon-musk-o-bilionario-que-comprou-o-twitter,af0acf0d87acd5d34293b4d6f18308558v4v0b9i.html', params='', query='', fragment='')\n",
      "Pagina 58 = ParseResult(scheme='https', netloc='www.terra.com.br', path='/amp/story/nos/7-situacoes-que-nao-queremos-ver-no-bbb23,5cbede283ea7b08448c50bc812a4a0c1lo5umjps.html', params='', query='', fragment='')\n",
      "Pagina 59 = ParseResult(scheme='https', netloc='www.terra.com.br', path='/amp/story/diversao/alem-de-galvao-bueno-veja-quem-trocou-o-jornalismo-pelo-entretenimento,2e5b5422d44320f44f6ee864cd3c77fb536sbgmn.html', params='', query='', fragment='')\n",
      "Pagina 60 = ParseResult(scheme='https', netloc='www.terra.com.br', path='/amp/story/diversao/eduarda-porto-quem-e-a-namorada-de-fernanda-souza,d6d7aaae23f5416c9c8cf53d4ae22b6cexqpg1po.html', params='', query='', fragment='')\n",
      "Pagina 61 = ParseResult(scheme='https', netloc='www.terra.com.br', path='/noticias/eleicoes/como-tirar-ou-regularizar-o-titulo-de-eleitor-neste-ultimo-dia,9eb483a6bf2b42ee7fe2be3ee295c4cbpdzdx7p9.html', params='', query='', fragment='')\n",
      "Pagina 62 = ParseResult(scheme='https', netloc='www.terra.com.br', path='/noticias/brasil/politica/sistema-virtual-do-tse-bate-recorde-de-atendimentos,1c1e22052e136c0fa033fa9d620f0831n5z2u8tg.html', params='', query='', fragment='')\n",
      "Pagina 63 = ParseResult(scheme='https', netloc='www.terra.com.br', path='/diversao/musica/anitta-e-alvo-de-bolsonaro-apos-apelo-para-jovens-tirarem-titulo,3a267b6e79debad44dc28c5e14192d03ytlbwjkn.html', params='', query='', fragment='')\n",
      "Pagina 63 = ParseResult(scheme='https', netloc='www.terra.com.br', path='/amp/story/noticias/brasil/jovens-podem-tirar-titulo-de-eleitor-ate-4-de-maio,4a1011c1414bff4a79ffdc0df315a7b7dcg5i2be.html', params='', query='', fragment='')\n",
      "Pagina 64 = ParseResult(scheme='https', netloc='www.terra.com.br', path='/amp/story/nos/famosas-que-abracaram-a-maternidade-na-maturidade,ea99da3c49139acecad47b4c2a9820bdjs5r9quf.html', params='', query='', fragment='')\n",
      "Pagina 64 = ParseResult(scheme='https', netloc='www.terra.com.br', path='/amp/story/nos/famosas-que-abracaram-a-maternidade-na-maturidade,ea99da3c49139acecad47b4c2a9820bdjs5r9quf.html', params='', query='', fragment='')\n",
      "Pagina 64 = ParseResult(scheme='https', netloc='www.terra.com.br', path='/amp/story/nos/famosas-que-abracaram-a-maternidade-na-maturidade,ea99da3c49139acecad47b4c2a9820bdjs5r9quf.html', params='', query='', fragment='')\n",
      "Pagina 65 = ParseResult(scheme='https', netloc='www.terra.com.br', path='/diversao/gente/um-ano-sem-paulo-gustavo-humorista-se-tornou-ainda-maior-depois-de-sua-morte,e78929977ca24db4fc2ec0eeba840e2e6gngz0k1.html', params='', query='', fragment='')\n",
      "Pagina 65 = ParseResult(scheme='https', netloc='www.terra.com.br', path='/diversao/gente/um-ano-sem-paulo-gustavo-humorista-se-tornou-ainda-maior-depois-de-sua-morte,e78929977ca24db4fc2ec0eeba840e2e6gngz0k1.html', params='', query='', fragment='')\n",
      "Pagina 65 = ParseResult(scheme='https', netloc='www.terra.com.br', path='/diversao/gente/um-ano-sem-paulo-gustavo-humorista-se-tornou-ainda-maior-depois-de-sua-morte,e78929977ca24db4fc2ec0eeba840e2e6gngz0k1.html', params='', query='', fragment='')\n",
      "Pagina 66 = ParseResult(scheme='https', netloc='www.maisgoias.com.br', path='/ex-mulher-de-luciano-detona-wanessa-camargo-apos-anuncio-de-divorcio/', params='', query='utm_source=terra_capa&utm_medium=referral', fragment='')\n",
      "Pagina 67 = ParseResult(scheme='https', netloc='www.maisgoias.com.br', path='/ex-mulher-de-luciano-detona-wanessa-camargo-apos-anuncio-de-divorcio/', params='', query='', fragment='')\n",
      "Pagina 67 = ParseResult(scheme='https', netloc='www.maisgoias.com.br', path='/ex-mulher-de-luciano-detona-wanessa-camargo-apos-anuncio-de-divorcio/', params='', query='utm_source=terra_capa&utm_medium=referral', fragment='')\n",
      "Pagina 68 = ParseResult(scheme='https', netloc='www.terra.com.br', path='/amp/story/diversao/amber-heard-x-johnny-depp-fatos-chocantes-do-casal-que-vieram-a-tona,3b01ce57727e2f93cbc20b00b3d25427l8rzflvm.html', params='', query='', fragment='')\n",
      "Pagina 68 = ParseResult(scheme='https', netloc='www.terra.com.br', path='/amp/story/diversao/amber-heard-x-johnny-depp-fatos-chocantes-do-casal-que-vieram-a-tona,3b01ce57727e2f93cbc20b00b3d25427l8rzflvm.html', params='', query='', fragment='')\n",
      "Pagina 68 = ParseResult(scheme='https', netloc='www.terra.com.br', path='/amp/story/diversao/amber-heard-x-johnny-depp-fatos-chocantes-do-casal-que-vieram-a-tona,3b01ce57727e2f93cbc20b00b3d25427l8rzflvm.html', params='', query='', fragment='')\n",
      "Pagina 69 = ParseResult(scheme='https', netloc='www.terra.com.br', path='/esportes/no-equador-jogadora-chuta-arbitro-em-lugar-inusitado-apos-cartao,8328029edba82da4de2f39e04bea3e796sjznwvf.html', params='', query='', fragment='')\n",
      "Pagina 69 = ParseResult(scheme='https', netloc='www.terra.com.br', path='/esportes/no-equador-jogadora-chuta-arbitro-em-lugar-inusitado-apos-cartao,8328029edba82da4de2f39e04bea3e796sjznwvf.html', params='', query='', fragment='')\n",
      "Pagina 69 = ParseResult(scheme='https', netloc='www.terra.com.br', path='/esportes/no-equador-jogadora-chuta-arbitro-em-lugar-inusitado-apos-cartao,8328029edba82da4de2f39e04bea3e796sjznwvf.html', params='', query='', fragment='')\n",
      "Pagina 69 = ParseResult(scheme='https', netloc='www.terra.com.br', path='/noticias/', params='', query='', fragment='')\n",
      "Pagina 70 = ParseResult(scheme='https', netloc='www.terra.com.br', path='/noticias/coronavirus/procon-pede-explicacao-apos-aumentos-de-ate-80-em-planos-de-saude,22c441ec3ed3c0ab7e05959217af6ad3yhcaeqli.html', params='', query='', fragment='')\n",
      "Pagina 70 = ParseResult(scheme='https', netloc='www.terra.com.br', path='/noticias/coronavirus/procon-pede-explicacao-apos-aumentos-de-ate-80-em-planos-de-saude,22c441ec3ed3c0ab7e05959217af6ad3yhcaeqli.html', params='', query='', fragment='')\n",
      "Pagina 70 = ParseResult(scheme='https', netloc='www.terra.com.br', path='/noticias/coronavirus/procon-pede-explicacao-apos-aumentos-de-ate-80-em-planos-de-saude,22c441ec3ed3c0ab7e05959217af6ad3yhcaeqli.html', params='', query='', fragment='')\n",
      "Pagina 71 = ParseResult(scheme='https', netloc='www.maisgoias.com.br', path='/juiz-aposentado-compulsoriamente-e-investigado-por-venda-de-sentencas/', params='', query='utm_source=terra_capa&utm_medium=referral', fragment='')\n",
      "Pagina 72 = ParseResult(scheme='https', netloc='www.maisgoias.com.br', path='/juiz-aposentado-compulsoriamente-e-investigado-por-venda-de-sentencas/', params='', query='', fragment='')\n",
      "Pagina 72 = ParseResult(scheme='https', netloc='www.maisgoias.com.br', path='/juiz-aposentado-compulsoriamente-e-investigado-por-venda-de-sentencas/', params='', query='utm_source=terra_capa&utm_medium=referral', fragment='')\n",
      "Pagina 73 = ParseResult(scheme='https', netloc='www.terra.com.br', path='/noticias/camara-aprova-projeto-que-define-homicidio-de-crianca-como-crime-hediondo,47cfddb889e3c1055d24e698cd752a81thkhh8fe.html', params='', query='', fragment='')\n",
      "Pagina 73 = ParseResult(scheme='https', netloc='www.terra.com.br', path='/noticias/camara-aprova-projeto-que-define-homicidio-de-crianca-como-crime-hediondo,47cfddb889e3c1055d24e698cd752a81thkhh8fe.html', params='', query='', fragment='')\n",
      "Pagina 73 = ParseResult(scheme='https', netloc='www.terra.com.br', path='/esportes/', params='', query='', fragment='')\n",
      "Pagina 74 = ParseResult(scheme='https', netloc='www.terra.com.br', path='/amp/story/esportes/futebol/fla-e-palmeiras-foram-os-que-mais-faturaram-em-2021-veja-lista,1ccb8782dd8f9c9824c29e8c76257b3fmz768eo2.html', params='', query='', fragment='')\n",
      "Pagina 74 = ParseResult(scheme='https', netloc='www.terra.com.br', path='/amp/story/esportes/futebol/fla-e-palmeiras-foram-os-que-mais-faturaram-em-2021-veja-lista,1ccb8782dd8f9c9824c29e8c76257b3fmz768eo2.html', params='', query='', fragment='')\n",
      "Pagina 74 = ParseResult(scheme='https', netloc='www.terra.com.br', path='/amp/story/esportes/futebol/fla-e-palmeiras-foram-os-que-mais-faturaram-em-2021-veja-lista,1ccb8782dd8f9c9824c29e8c76257b3fmz768eo2.html', params='', query='', fragment='')\n",
      "Pagina 75 = ParseResult(scheme='https', netloc='www.terra.com.br', path='/esportes/saiba-onde-assistir-os-jogos-de-corinthians-e-fla-na-libertadores,7fa4245db0d78355b9a05d509d1bfc809yssh671.html', params='', query='', fragment='')\n",
      "Pagina 75 = ParseResult(scheme='https', netloc='www.terra.com.br', path='/esportes/saiba-onde-assistir-os-jogos-de-corinthians-e-fla-na-libertadores,7fa4245db0d78355b9a05d509d1bfc809yssh671.html', params='', query='', fragment='')\n",
      "Pagina 75 = ParseResult(scheme='https', netloc='www.terra.com.br', path='/esportes/saiba-onde-assistir-os-jogos-de-corinthians-e-fla-na-libertadores,7fa4245db0d78355b9a05d509d1bfc809yssh671.html', params='', query='', fragment='')\n",
      "Pagina 76 = ParseResult(scheme='https', netloc='www.terra.com.br', path='/esportes/palmeiras/mesmo-apos-goleada-abel-da-puxao-de-orelha-em-wesley,f9813d050d48f0bbb73625da558e47bcz6o1pc6b.html', params='', query='', fragment='')\n",
      "Pagina 76 = ParseResult(scheme='https', netloc='www.terra.com.br', path='/esportes/palmeiras/mesmo-apos-goleada-abel-da-puxao-de-orelha-em-wesley,f9813d050d48f0bbb73625da558e47bcz6o1pc6b.html', params='', query='', fragment='')\n",
      "Pagina 76 = ParseResult(scheme='https', netloc='www.terra.com.br', path='/diversao/', params='', query='', fragment='')\n",
      "Pagina 77 = ParseResult(scheme='https', netloc='portalpopline.com.br', path='/power-couple-hadson-ivy-revelam-quem-flay-ficando/', params='', query='utm_source=terra_capa&utm_medium=referral', fragment='')\n",
      "Pagina 78 = ParseResult(scheme='https', netloc='portalpopline.com.br', path='/power-couple-hadson-ivy-revelam-quem-flay-ficando/', params='', query='', fragment='')\n",
      "Pagina 78 = ParseResult(scheme='https', netloc='portalpopline.com.br', path='/power-couple-hadson-ivy-revelam-quem-flay-ficando/', params='', query='utm_source=terra_capa&utm_medium=referral', fragment='')\n",
      "Pagina 79 = ParseResult(scheme='https', netloc='portalpopline.com.br', path='/no-limite-matheus-pires-se-destaca-estrategia-mentirosa/', params='', query='utm_source=terra_capa&utm_medium=referral', fragment='')\n",
      "Pagina 80 = ParseResult(scheme='https', netloc='portalpopline.com.br', path='/no-limite-matheus-pires-se-destaca-estrategia-mentirosa/', params='', query='', fragment='')\n",
      "Pagina 80 = ParseResult(scheme='https', netloc='portalpopline.com.br', path='/no-limite-matheus-pires-se-destaca-estrategia-mentirosa/', params='', query='utm_source=terra_capa&utm_medium=referral', fragment='')\n",
      "Pagina 81 = ParseResult(scheme='https', netloc='portalpopline.com.br', path='/no-limite-primeiro-participante-eliminado/', params='', query='', fragment='')\n",
      "Pagina 82 = ParseResult(scheme='https', netloc='portalpopline.com.br', path='/no-limite-primeiro-participante-eliminado/', params='', query='utm_source=terra_capa&utm_medium=referral', fragment='')\n",
      "Pagina 82 = ParseResult(scheme='https', netloc='www.terra.com.br', path='/vida-e-estilo/', params='', query='', fragment='')\n",
      "Pagina 83 = ParseResult(scheme='https', netloc='www.terra.com.br', path='/nos/o-que-esta-em-jogo-em-discussao-sobre-aborto-nos-eua,4e57c25f35c564d0dde5c4140ac94d448j07k8jd.html', params='', query='', fragment='')\n",
      "Pagina 83 = ParseResult(scheme='https', netloc='www.terra.com.br', path='/nos/o-que-esta-em-jogo-em-discussao-sobre-aborto-nos-eua,4e57c25f35c564d0dde5c4140ac94d448j07k8jd.html', params='', query='', fragment='')\n",
      "Pagina 83 = ParseResult(scheme='https', netloc='www.terra.com.br', path='/nos/o-que-esta-em-jogo-em-discussao-sobre-aborto-nos-eua,4e57c25f35c564d0dde5c4140ac94d448j07k8jd.html', params='', query='', fragment='')\n",
      "Pagina 84 = ParseResult(scheme='https', netloc='www.terra.com.br', path='/amp/story/nos/um-ano-sem-paulo-gustavo,e5438f64f40d091e666d1785da7e8ccbhce1xy21.html', params='', query='', fragment='')\n",
      "Pagina 84 = ParseResult(scheme='https', netloc='www.terra.com.br', path='/amp/story/nos/um-ano-sem-paulo-gustavo,e5438f64f40d091e666d1785da7e8ccbhce1xy21.html', params='', query='', fragment='')\n",
      "Pagina 84 = ParseResult(scheme='https', netloc='www.terra.com.br', path='/amp/story/nos/um-ano-sem-paulo-gustavo,e5438f64f40d091e666d1785da7e8ccbhce1xy21.html', params='', query='', fragment='')\n",
      "Pagina 85 = ParseResult(scheme='https', netloc='www.terra.com.br', path='/comunidade/visao-do-corre/empreendedora-solidaria-luta-em-meio-a-queda-de-doacoes,0806cae63580780201e69d5e493fc76dg77ho3m2.html', params='', query='', fragment='')\n",
      "Pagina 85 = ParseResult(scheme='https', netloc='www.terra.com.br', path='/comunidade/visao-do-corre/empreendedora-solidaria-luta-em-meio-a-queda-de-doacoes,0806cae63580780201e69d5e493fc76dg77ho3m2.html', params='', query='', fragment='')\n",
      "Pagina 86 = ParseResult(scheme='https', netloc='www.terra.com.br', path='/esportes/futebol/', params='', query='', fragment='')\n",
      "Pagina 87 = ParseResult(scheme='https', netloc='www.terraempresas.com.br', path='/', params='', query='utm_source=terra%20360&utm_medium=barra%20central&utm_campaign=todos-servicos&utm_term=pos-01&cdConvenio=CVTR00002055', fragment='')\n",
      "Pagina 88 = ParseResult(scheme='https', netloc='www.terraempresas.com.br', path='/loja-virtual/', params='', query='utm_source=terra&utm_medium=espaco-fixo&utm_campaign=loja-virtual_produto&utm_content=barra-central&utm_term=pos-01&cdConvenio=CVTR00002055', fragment='')\n",
      "Pagina 89 = ParseResult(scheme='https', netloc='servicos.terra.com.br', path='/cursos-online/promo/super-oferta/', params='', query='utm_source=terra&utm_medium=espaco-fixo&utm_campaign=cursos-online_produto&utm_content=barra-central&utm_term=pos-02&cdConvenio=CVTR00002055', fragment='')\n",
      "Pagina 90 = ParseResult(scheme='https', netloc='terraempresas.com.br', path='/construtor-sites/promo/oferta-especial/', params='', query='utm_source=terra&utm_medium=espaco-fixo&utm_campaign=construtor-de-sites_lp&utm_content=barra-central&utm_term=pos-03&cdConvenio=CVTR00002055', fragment='')\n",
      "Pagina 91 = ParseResult(scheme='https', netloc='servicos.terra.com.br', path='/curso-de-ingles/', params='', query='utm_source=terra&utm_medium=espaco-fixo&utm_campaign=curso-de-ingles_produto&utm_content=barra-central&utm_term=pos-04&cdConvenio=CVTR00002055', fragment='')\n",
      "Pagina 92 = ParseResult(scheme='https', netloc='servicos.terra.com.br', path='/mail-gigante/', params='', query='utm_source=terra&utm_medium=espaco-fixo&utm_campaign=mail-gigante_produto&utm_content=barra-central&utm_term=pos-05&cdConvenio=CVTR00002055', fragment='')\n",
      "Pagina 93 = ParseResult(scheme='https', netloc='www.terraempresas.com.br', path='/terra-ads/', params='', query='utm_source=terra&utm_medium=espaco-fixo&utm_campaign=terra-ads_produto&utm_content=barra-central&utm_term=pos-06&cdConvenio=CVTR00002055', fragment='')\n",
      "Pagina 94 = ParseResult(scheme='https', netloc='servicos.terra.com.br', path='/backup/', params='', query='utm_source=terra&utm_medium=espaco-fixo&utm_campaign=backup_produto&utm_content=barra-central&utm_term=pos-07&cdConvenio=CVTR00002055', fragment='')\n",
      "Pagina 95 = ParseResult(scheme='https', netloc='www.terraempresas.com.br', path='/email-profissional/', params='', query='utm_source=terra&utm_medium=espaco-fixo&utm_campaign=mail-profissional_produto&utm_content=barra-central&utm_term=pos-08&cdConvenio=CVTR00002055', fragment='')\n",
      "Pagina 96 = ParseResult(scheme='https', netloc='servicos.terra.com.br', path='/antivirus/', params='', query='utm_source=terra&utm_medium=espaco-fixo&utm_campaign=antivirus_produto&utm_content=barra-central&utm_term=pos-09&cdConvenio=CVTR00002055', fragment='')\n"
     ]
    }
   ],
   "source": [
    "from urllib.parse import urlparse\n",
    "\n",
    "#from crawler.domain import *\n",
    "from crawler.scheduler import *\n",
    "from crawler.page_fetcher import *\n",
    "\n",
    "page_limit = 30\n",
    "depth_limit = 3\n",
    "\n",
    "arr_str_urls_seeds = [\n",
    "\"https://www.uol.com.br/\",\n",
    "\"https://www.terra.com.br/\",\n",
    "\"https://ge.globo.com/\",\n",
    "\"https://www.em.com.br/\",\n",
    "\"https://www.otempo.com.br/\"]\n",
    "\n",
    "arr_urls_seeds = [urlparse(str_url) for str_url in arr_str_urls_seeds]\n",
    "#print(arr_urls_seeds)\n",
    "scheduler = Scheduler(usr_agent=\"marcelobot\",\n",
    "                        page_limit=page_limit,\n",
    "                        depth_limit=depth_limit,\n",
    "                        arr_urls_seeds=arr_urls_seeds)\n",
    "page_fetchers = []\n",
    "\n",
    "for i in range(5):\n",
    "    page_fetchers.append(PageFetcher(scheduler))\n",
    "\n",
    "for fetcher in page_fetchers:\n",
    "    fetcher.run()"
   ]
  },
  {
   "cell_type": "markdown",
   "metadata": {},
   "source": [
    "# Bibliografia\n",
    "\n",
    "Baeza-Yates, Ricardo; Ribeiro-Neto, Berthier. **Modern information retrieval: the concepts and technology behind search**. ACM Press, 2011.\n",
    "\n",
    "Batista, Natércia ; Brandão, Michele ; Pinheiro, Michele ; Dalip, Daniel ; Moro, Mirella . **[Dados de Múltiplas Fontes da Web: coleta, integração e pré-processamento](https://sol.sbc.org.br/livros/index.php/sbc/catalog/download/8/19/58-1?inline=1)**. Minicursos do XXIV Simpósio Brasileiro de Sistemas Multimídia e Web. 1ed.: Sociedade Brasileira de Computação, 2018, v. , p. 153-192."
   ]
  }
 ],
 "metadata": {
  "kernelspec": {
   "display_name": "Python 3 (ipykernel)",
   "language": "python",
   "name": "python3"
  },
  "language_info": {
   "codemirror_mode": {
    "name": "ipython",
    "version": 3
   },
   "file_extension": ".py",
   "mimetype": "text/x-python",
   "name": "python",
   "nbconvert_exporter": "python",
   "pygments_lexer": "ipython3",
   "version": "3.8.10"
  }
 },
 "nbformat": 4,
 "nbformat_minor": 2
}

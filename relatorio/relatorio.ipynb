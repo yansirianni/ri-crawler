{
 "cells": [
  {
   "cell_type": "markdown",
   "metadata": {},
   "source": [
    "### Coletor RI\n",
    "\n",
    "**Alunos:**\n",
    "1. Marcelo Ricoy\n",
    "2. Yan Sirianni"
   ]
  },
  {
   "cell_type": "markdown",
   "metadata": {},
   "source": [
    "a) Principais desafios, decisões e arquitetura utilizada:\n",
    "\n",
    "**Principais desafios:**\n",
    "- Uso do python\n",
    "- primeira interação com um coletor de páginas\n",
    "\n",
    "**Decisões e Arquitetura:**\n",
    "\n",
    "- Profundidade limite: 3\n",
    "- Número de páginas coletadas: 500\n",
    "\n",
    "O coletor foi dividido em 3 partes:\n",
    "\n",
    "- Domain: armazena informações importantes sobre o servidor a serem usadas no momento do escalonamento das URLs.\n",
    "- Page Fetcher: serão *threads* responsáveis por fazer as requisições das URLs obtidas por meio do escalonador (instancia da classe `Scheduler`)\n",
    "- Scheduler: é responsável por armazenar as filas de URLs a serem requisitadas\n",
    "\n",
    "* O grupo optou por colocar o contador de páginas coletadas dentro do método *request_url* do Page Fetcher\n",
    "\n",
    "Foram utilizadas as seguintes URLs sementes no coletor:\n",
    "\n",
    "- https://www.uol.com.br/\n",
    "- https://www.terra.com.br/\n",
    "- https://ge.globo.com/\n",
    "- https://www.em.com.br/\n",
    "- https://www.otempo.com.br/"
   ]
  },
  {
   "cell_type": "markdown",
   "metadata": {},
   "source": []
  },
  {
   "cell_type": "markdown",
   "metadata": {},
   "source": [
    "c) Como foi feito, faça referências à classes e métodos do código fonte:\n",
    "\n",
    "→ Os critérios de exclusão de robôs e quantidade de tempo entre requisições à um mesmo servidor\n"
   ]
  },
  {
   "cell_type": "markdown",
   "metadata": {},
   "source": []
  },
  {
   "cell_type": "markdown",
   "metadata": {},
   "source": [
    "d) O impacto na velocidade de coleta (quantidade de páginas por segundo) ao aumentar o número de threads 1 a 20 de 5 em 5 passos e, logo após, de 30 a 100 com 20 passos . Ao fazer o estudo, colete menos páginas (~100 páginas visitadas pode ser o suficiente).\n"
   ]
  },
  {
   "cell_type": "markdown",
   "metadata": {},
   "source": [
    "e) Link para a página descrevendo o coletor criado\n",
    "\n",
    "- google.com"
   ]
  }
 ],
 "metadata": {
  "language_info": {
   "name": "python"
  },
  "orig_nbformat": 4
 },
 "nbformat": 4,
 "nbformat_minor": 2
}
